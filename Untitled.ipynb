{
 "cells": [
  {
   "cell_type": "code",
   "execution_count": 4,
   "id": "55df8b3b-9e0a-4c3b-8ac7-cbbfd4f8a02d",
   "metadata": {},
   "outputs": [],
   "source": [
    "import cv2\n",
    "image=cv2.imread('str.jpeg',1)\n",
    "cv2.imshow('STR',image)\n",
    "cv2.waitKey(0)\n",
    "cv2.destroyAllWindows()"
   ]
  },
  {
   "cell_type": "code",
   "execution_count": 5,
   "id": "d3e3237c-bb67-48fc-a287-3a071fb77060",
   "metadata": {},
   "outputs": [],
   "source": [
    "import cv2\n",
    "image = cv2.imread(\"str.jpeg\")\n",
    "res = cv2.line(image, (0, 0), (image.shape[1], image.shape[0]), (255,0,0), 10)\n",
    "cv2.imshow('WINDOW', res)\n",
    "cv2.waitKey(0)\n",
    "cv2.destroyAllWindows()"
   ]
  },
  {
   "cell_type": "code",
   "execution_count": 6,
   "id": "b8bd188c-09f1-4956-a6a5-f205e69f609e",
   "metadata": {},
   "outputs": [],
   "source": [
    "import cv2\n",
    "image = cv2.imread(\"str.jpeg\")\n",
    "height, width, _ = image.shape\n",
    "center_coordinates = (width // 2, height // 2)\n",
    "res = cv2.circle(image, center_coordinates, 120, (0, 255, 0), 10)\n",
    "cv2.imshow('WINDOW', res)\n",
    "cv2.waitKey(0)\n",
    "cv2.destroyAllWindows()"
   ]
  },
  {
   "cell_type": "code",
   "execution_count": 11,
   "id": "47882b44-def5-476b-a688-69ee6bc541c9",
   "metadata": {},
   "outputs": [],
   "source": [
    "import cv2\n",
    "image = cv2.imread(\"str.jpeg\")\n",
    "\n",
    "\n",
    "img = cv2.cvtColor(image, cv2.COLOR_BGR2GRAY)\n",
    "img = cv2.imread(\"str.jpeg\")\n",
    "img = cv2.resize(img, (900, 612))\n",
    "img.shape\n",
    "start=(0,0)\n",
    "stop=(900,612)\n",
    "color=(100,255,100)\n",
    "thickness=20\n",
    "\n",
    "res_img=cv2.rectangle(img,start,stop,color,thickness)\n",
    "\n",
    "\n",
    "cv2.imshow('Image Window', res_img)\n",
    "cv2.waitKey(0)\n",
    "cv2.destroyAllWindows()"
   ]
  },
  {
   "cell_type": "code",
   "execution_count": 13,
   "id": "932489a5-bdb2-45ab-a0c8-9ee48f00e60d",
   "metadata": {},
   "outputs": [],
   "source": [
    "image = cv2.imread(\"str.jpeg\")\n",
    "text = \"OpenCV Drawing\"\n",
    "position = (10, 50)\n",
    "font = cv2.FONT_HERSHEY_SIMPLEX\n",
    "font_scale = 1\n",
    "color = (255, 255, 255) \n",
    "thickness = 2\n",
    "res = cv2.putText(image, text, position, font, font_scale, color, thickness, cv2.LINE_AA)\n",
    "cv2.imshow('WINDOW', res)\n",
    "cv2.waitKey(0)\n",
    "cv2.destroyAllWindows()"
   ]
  },
  {
   "cell_type": "code",
   "execution_count": 14,
   "id": "d3f11bb5-5f7f-4012-9d8f-47bfbcbb6224",
   "metadata": {},
   "outputs": [],
   "source": [
    "import cv2\n",
    "image = cv2.imread('str.jpeg',1)\n",
    "cv2.imshow('ORIGINAL IMAGE',image)\n",
    "hsv = cv2.cvtColor(image,cv2.COLOR_RGB2HSV)\n",
    "cv2.imshow('RGB2HSV',hsv)\n",
    "cv2.waitKey(0)\n",
    "cv2.destroyAllWindows()"
   ]
  },
  {
   "cell_type": "code",
   "execution_count": null,
   "id": "b11adfde-1c2c-4e0f-99d6-b2068d0edccd",
   "metadata": {},
   "outputs": [],
   "source": [
    "import cv2\n",
    "image = cv2.imread('str.jpeg',1)\n",
    "cv2.imshow('ORIGINAL IMAGE',image)\n",
    "gray = cv2.cvtColor(image,cv2.COLOR_RGB2GRAY)\n",
    "cv2.imshow('RGB2GRAY',gray)\n",
    "cv2.waitKey(0)\n",
    "cv2.destroyAllWindows()"
   ]
  },
  {
   "cell_type": "code",
   "execution_count": null,
   "id": "5c5a7546-0448-4e77-889f-af8e0ce84f4d",
   "metadata": {},
   "outputs": [],
   "source": [
    "import cv2\n",
    "image = cv2.imread('str.jpeg',1)\n",
    "cv2.imshow('ORIGINAL IMAGE',image)\n",
    "YCrCb = cv2.cvtColor(image, cv2.COLOR_BGR2YCrCb)\n",
    "cv2.imshow('RGB-2-YCrCb',YCrCb)\n",
    "cv2.waitKey(0)\n",
    "cv2.destroyAllWindows()"
   ]
  },
  {
   "cell_type": "code",
   "execution_count": null,
   "id": "4b1ec49f-6578-43c0-b010-1b3fa0252bd8",
   "metadata": {},
   "outputs": [],
   "source": [
    "import cv2\n",
    "image = cv2.imread('str.jpeg',1)\n",
    "cv2.imshow('ORIGINAL IMAGE',image)\n",
    "RGB = cv2.cvtColor(image,cv2.COLOR_HSV2BGR)\n",
    "cv2.imshow('HSV2RGB',RGB)\n",
    "cv2.waitKey(0)\n",
    "cv2.destroyAllWindows()"
   ]
  },
  {
   "cell_type": "code",
   "execution_count": null,
   "id": "61f4200a-9899-453b-ae67-c4ebc4a4d21d",
   "metadata": {},
   "outputs": [],
   "source": [
    "pixel_value = image[100, 100]\n",
    "print(f\"Pixel value at (100, 100): {pixel_value}\")"
   ]
  },
  {
   "cell_type": "code",
   "execution_count": 13,
   "id": "cb427bf6-0ac5-42af-9153-62ae70456e03",
   "metadata": {},
   "outputs": [],
   "source": [
    "import cv2\n",
    "image = cv2.imread('str.jpeg',1)\n",
    "cv2.imshow('ORIGINAL IMAGE',image)\n",
    "image[200, 200] = [255, 255, 255] \n",
    "cv2.imshow('MODIFIED IMAGE', image)\n",
    "cv2.waitKey(0)\n",
    "cv2.destroyAllWindows()"
   ]
  },
  {
   "cell_type": "code",
   "execution_count": 15,
   "id": "83522653-aed0-41b4-a7e0-7f34a4ed2ab8",
   "metadata": {},
   "outputs": [],
   "source": [
    "cv2.imshow('ORIGINAL IMAGE',image)\n",
    "resized_image = cv2.resize(image, (image.shape[1] // 2, image.shape[0] // 2))\n",
    "cv2.imshow('RESIZED IMAGE', resized_image)\n",
    "cv2.waitKey(0)\n",
    "cv2.destroyAllWindows()"
   ]
  },
  {
   "cell_type": "code",
   "execution_count": 16,
   "id": "801eff5a-2493-4ae6-b866-4ac5306b3966",
   "metadata": {},
   "outputs": [],
   "source": [
    "import cv2\n",
    "image = cv2.imread('str.jpeg',1)\n",
    "image = cv2.resize(image,(400,300))\n",
    "x, y = 50, 50\n",
    "width, height = 100, 100\n",
    "roi = image[y:y + height, x:x + width]\n",
    "cv2.imshow('CROPPED IMAGE', roi)\n",
    "cv2.waitKey(0)\n",
    "cv2.destroyAllWindows()"
   ]
  },
  {
   "cell_type": "code",
   "execution_count": 17,
   "id": "e1bc6d38-f3fc-49ce-958a-0235fa8e0cb5",
   "metadata": {},
   "outputs": [],
   "source": [
    "import cv2\n",
    "image = cv2.imread(\"str.jpeg\")\n",
    "image = cv2.resize(image,(300,200))\n",
    "res=cv2.rotate(image,cv2.ROTATE_180)\n",
    "cv2.imshow('ORIGINAL IMAGE',image)\n",
    "cv2.imshow('FLIPPED IMAGE', res)\n",
    "cv2.waitKey(0)\n",
    "cv2.destroyAllWindows()"
   ]
  },
  {
   "cell_type": "code",
   "execution_count": 18,
   "id": "f737f9b1-b6e1-4fb4-bff6-8406e4f6f3c1",
   "metadata": {},
   "outputs": [],
   "source": [
    "import cv2\n",
    "image = cv2.imread(\"str.jpeg\")\n",
    "image = cv2.resize(image,(300,200))\n",
    "res=cv2.rotate(image,cv2.ROTATE_90_CLOCKWISE)\n",
    "cv2.imshow('ORIGINAL IMAGE',image)\n",
    "cv2.imshow('FLIPPED IMAGE', res)\n",
    "cv2.waitKey(0)\n",
    "cv2.destroyAllWindows()"
   ]
  },
  {
   "cell_type": "code",
   "execution_count": 20,
   "id": "dac759ad-2148-4cba-84c6-e68dda226aee",
   "metadata": {},
   "outputs": [
    {
     "data": {
      "text/plain": [
       "True"
      ]
     },
     "execution_count": 20,
     "metadata": {},
     "output_type": "execute_result"
    }
   ],
   "source": [
    "import cv2\n",
    "img = cv2.imread(\"str.jpeg\")\n",
    "img = cv2.resize(img,(300,200))\n",
    "cv2.imwrite('nature_pic.jpg',img)"
   ]
  },
  {
   "cell_type": "code",
   "execution_count": null,
   "id": "0c7960d3-8c60-4938-91bb-a43640eaa505",
   "metadata": {},
   "outputs": [],
   "source": []
  }
 ],
 "metadata": {
  "kernelspec": {
   "display_name": "Python 3 (ipykernel)",
   "language": "python",
   "name": "python3"
  },
  "language_info": {
   "codemirror_mode": {
    "name": "ipython",
    "version": 3
   },
   "file_extension": ".py",
   "mimetype": "text/x-python",
   "name": "python",
   "nbconvert_exporter": "python",
   "pygments_lexer": "ipython3",
   "version": "3.12.4"
  }
 },
 "nbformat": 4,
 "nbformat_minor": 5
}
